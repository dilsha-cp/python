{
 "cells": [
  {
   "cell_type": "code",
   "execution_count": 1,
   "metadata": {},
   "outputs": [],
   "source": [
    "import pandas as pd\n",
    "import numpy as nb"
   ]
  },
  {
   "cell_type": "code",
   "execution_count": 2,
   "metadata": {},
   "outputs": [],
   "source": [
    "data=pd.read_csv(r\"C:\\MCA\\SEM3\\python\\python_lab\\realistic_students_data(1).csv\")"
   ]
  },
  {
   "cell_type": "code",
   "execution_count": 3,
   "metadata": {},
   "outputs": [
    {
     "data": {
      "text/html": [
       "<div>\n",
       "<style scoped>\n",
       "    .dataframe tbody tr th:only-of-type {\n",
       "        vertical-align: middle;\n",
       "    }\n",
       "\n",
       "    .dataframe tbody tr th {\n",
       "        vertical-align: top;\n",
       "    }\n",
       "\n",
       "    .dataframe thead th {\n",
       "        text-align: right;\n",
       "    }\n",
       "</style>\n",
       "<table border=\"1\" class=\"dataframe\">\n",
       "  <thead>\n",
       "    <tr style=\"text-align: right;\">\n",
       "      <th></th>\n",
       "      <th>Name</th>\n",
       "      <th>Age</th>\n",
       "      <th>City</th>\n",
       "    </tr>\n",
       "  </thead>\n",
       "  <tbody>\n",
       "    <tr>\n",
       "      <th>0</th>\n",
       "      <td>Jennifer Nguyen</td>\n",
       "      <td>20</td>\n",
       "      <td>Serranoport</td>\n",
       "    </tr>\n",
       "    <tr>\n",
       "      <th>1</th>\n",
       "      <td>Joshua Smith</td>\n",
       "      <td>24</td>\n",
       "      <td>Kellyberg</td>\n",
       "    </tr>\n",
       "    <tr>\n",
       "      <th>2</th>\n",
       "      <td>Gavin Rubio</td>\n",
       "      <td>23</td>\n",
       "      <td>Port Williamhaven</td>\n",
       "    </tr>\n",
       "    <tr>\n",
       "      <th>3</th>\n",
       "      <td>Richard Young</td>\n",
       "      <td>23</td>\n",
       "      <td>Rachelshire</td>\n",
       "    </tr>\n",
       "    <tr>\n",
       "      <th>4</th>\n",
       "      <td>Jeffrey Gregory</td>\n",
       "      <td>18</td>\n",
       "      <td>Port Carla</td>\n",
       "    </tr>\n",
       "    <tr>\n",
       "      <th>...</th>\n",
       "      <td>...</td>\n",
       "      <td>...</td>\n",
       "      <td>...</td>\n",
       "    </tr>\n",
       "    <tr>\n",
       "      <th>95</th>\n",
       "      <td>Jennifer Delgado</td>\n",
       "      <td>25</td>\n",
       "      <td>Port Stephanie</td>\n",
       "    </tr>\n",
       "    <tr>\n",
       "      <th>96</th>\n",
       "      <td>Dwayne Lopez</td>\n",
       "      <td>24</td>\n",
       "      <td>New Caitlinhaven</td>\n",
       "    </tr>\n",
       "    <tr>\n",
       "      <th>97</th>\n",
       "      <td>Mrs. Sarah Mccoy DDS</td>\n",
       "      <td>22</td>\n",
       "      <td>West Michellefurt</td>\n",
       "    </tr>\n",
       "    <tr>\n",
       "      <th>98</th>\n",
       "      <td>Paul Morris</td>\n",
       "      <td>23</td>\n",
       "      <td>South Perryhaven</td>\n",
       "    </tr>\n",
       "    <tr>\n",
       "      <th>99</th>\n",
       "      <td>Dr. Sara Johnson</td>\n",
       "      <td>24</td>\n",
       "      <td>Lake Joyce</td>\n",
       "    </tr>\n",
       "  </tbody>\n",
       "</table>\n",
       "<p>100 rows × 3 columns</p>\n",
       "</div>"
      ],
      "text/plain": [
       "                    Name  Age               City\n",
       "0        Jennifer Nguyen   20        Serranoport\n",
       "1           Joshua Smith   24          Kellyberg\n",
       "2            Gavin Rubio   23  Port Williamhaven\n",
       "3          Richard Young   23        Rachelshire\n",
       "4        Jeffrey Gregory   18         Port Carla\n",
       "..                   ...  ...                ...\n",
       "95      Jennifer Delgado   25     Port Stephanie\n",
       "96          Dwayne Lopez   24   New Caitlinhaven\n",
       "97  Mrs. Sarah Mccoy DDS   22  West Michellefurt\n",
       "98           Paul Morris   23   South Perryhaven\n",
       "99      Dr. Sara Johnson   24         Lake Joyce\n",
       "\n",
       "[100 rows x 3 columns]"
      ]
     },
     "execution_count": 3,
     "metadata": {},
     "output_type": "execute_result"
    }
   ],
   "source": [
    "data"
   ]
  },
  {
   "cell_type": "code",
   "execution_count": 4,
   "metadata": {},
   "outputs": [
    {
     "name": "stdout",
     "output_type": "stream",
     "text": [
      "(100, 3)\n"
     ]
    }
   ],
   "source": [
    "print(data.shape)"
   ]
  },
  {
   "cell_type": "code",
   "execution_count": 5,
   "metadata": {},
   "outputs": [
    {
     "name": "stdout",
     "output_type": "stream",
     "text": [
      "<bound method NDFrame.describe of                     Name  Age               City\n",
      "0        Jennifer Nguyen   20        Serranoport\n",
      "1           Joshua Smith   24          Kellyberg\n",
      "2            Gavin Rubio   23  Port Williamhaven\n",
      "3          Richard Young   23        Rachelshire\n",
      "4        Jeffrey Gregory   18         Port Carla\n",
      "..                   ...  ...                ...\n",
      "95      Jennifer Delgado   25     Port Stephanie\n",
      "96          Dwayne Lopez   24   New Caitlinhaven\n",
      "97  Mrs. Sarah Mccoy DDS   22  West Michellefurt\n",
      "98           Paul Morris   23   South Perryhaven\n",
      "99      Dr. Sara Johnson   24         Lake Joyce\n",
      "\n",
      "[100 rows x 3 columns]>\n"
     ]
    }
   ],
   "source": [
    "print(data.describe)"
   ]
  },
  {
   "cell_type": "code",
   "execution_count": 8,
   "metadata": {},
   "outputs": [
    {
     "name": "stdout",
     "output_type": "stream",
     "text": [
      "                    Name  Age               City\n",
      "0        Jennifer Nguyen   20        Serranoport\n",
      "1           Joshua Smith   24          Kellyberg\n",
      "2            Gavin Rubio   23  Port Williamhaven\n",
      "3          Richard Young   23        Rachelshire\n",
      "4        Jeffrey Gregory   18         Port Carla\n",
      "..                   ...  ...                ...\n",
      "95      Jennifer Delgado   25     Port Stephanie\n",
      "96          Dwayne Lopez   24   New Caitlinhaven\n",
      "97  Mrs. Sarah Mccoy DDS   22  West Michellefurt\n",
      "98           Paul Morris   23   South Perryhaven\n",
      "99      Dr. Sara Johnson   24         Lake Joyce\n",
      "\n",
      "[100 rows x 3 columns]\n"
     ]
    }
   ],
   "source": [
    "df = pd.DataFrame(data)\n",
    "print(df)"
   ]
  },
  {
   "cell_type": "code",
   "execution_count": 9,
   "metadata": {},
   "outputs": [
    {
     "name": "stdout",
     "output_type": "stream",
     "text": [
      "                    Name  Age               City  New_Column\n",
      "0        Jennifer Nguyen   20        Serranoport          20\n",
      "1           Joshua Smith   24          Kellyberg          24\n",
      "2            Gavin Rubio   23  Port Williamhaven          23\n",
      "3          Richard Young   23        Rachelshire          23\n",
      "4        Jeffrey Gregory   18         Port Carla          18\n",
      "..                   ...  ...                ...         ...\n",
      "95      Jennifer Delgado   25     Port Stephanie          25\n",
      "96          Dwayne Lopez   24   New Caitlinhaven          24\n",
      "97  Mrs. Sarah Mccoy DDS   22  West Michellefurt          22\n",
      "98           Paul Morris   23   South Perryhaven          23\n",
      "99      Dr. Sara Johnson   24         Lake Joyce          24\n",
      "\n",
      "[100 rows x 4 columns]\n"
     ]
    }
   ],
   "source": [
    "df['New_Column'] = df['Age']\n",
    "print(df)"
   ]
  },
  {
   "cell_type": "code",
   "execution_count": 11,
   "metadata": {},
   "outputs": [
    {
     "name": "stdout",
     "output_type": "stream",
     "text": [
      "                    Name  Age               City  New_Column\n",
      "0        Jennifer Nguyen   20        Serranoport          20\n",
      "1           Joshua Smith   24          Kellyberg          24\n",
      "2            Gavin Rubio   23  Port Williamhaven          23\n",
      "3          Richard Young   23        Rachelshire          23\n",
      "4        Jeffrey Gregory   18         Port Carla          18\n",
      "..                   ...  ...                ...         ...\n",
      "95      Jennifer Delgado   25     Port Stephanie          25\n",
      "96          Dwayne Lopez   24   New Caitlinhaven          24\n",
      "97  Mrs. Sarah Mccoy DDS   22  West Michellefurt          22\n",
      "98           Paul Morris   23   South Perryhaven          23\n",
      "99      Dr. Sara Johnson   24         Lake Joyce          24\n",
      "\n",
      "[100 rows x 4 columns]\n"
     ]
    }
   ],
   "source": [
    "df = df.fillna(0)\n",
    "print(df)\n",
    "df = df.dropna()#deletes the row with no value in any attribute\n",
    "print(df)"
   ]
  }
 ],
 "metadata": {
  "kernelspec": {
   "display_name": "Python 3",
   "language": "python",
   "name": "python3"
  },
  "language_info": {
   "codemirror_mode": {
    "name": "ipython",
    "version": 3
   },
   "file_extension": ".py",
   "mimetype": "text/x-python",
   "name": "python",
   "nbconvert_exporter": "python",
   "pygments_lexer": "ipython3",
   "version": "3.12.3"
  }
 },
 "nbformat": 4,
 "nbformat_minor": 2
}
